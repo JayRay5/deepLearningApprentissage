{
 "cells": [
  {
   "cell_type": "markdown",
   "metadata": {},
   "source": [
    "### Programation d'un neurone artificiel pour faire la différence entre un chat et un chien"
   ]
  },
  {
   "cell_type": "markdown",
   "metadata": {},
   "source": [
    "#### Import des librarys"
   ]
  },
  {
   "cell_type": "code",
   "execution_count": 348,
   "metadata": {},
   "outputs": [],
   "source": [
    "import numpy as np\n",
    "import matplotlib.pyplot as plt \n",
    "from sklearn.metrics import accuracy_score, log_loss\n",
    "from tqdm import tqdm\n",
    "\n",
    "from  utilities import load_data"
   ]
  },
  {
   "cell_type": "markdown",
   "metadata": {},
   "source": [
    "#### Initialisation du dataset"
   ]
  },
  {
   "cell_type": "code",
   "execution_count": 349,
   "metadata": {},
   "outputs": [
    {
     "name": "stdout",
     "output_type": "stream",
     "text": [
      "X_train shape :  (1000, 64, 64) \n",
      "y_train shape :  (1000, 1) \n",
      "X_test shape :  (200, 64, 64) \n",
      "y_test shape :  (200, 1)\n",
      "<class 'numpy.ndarray'>\n"
     ]
    }
   ],
   "source": [
    "#import des images\n",
    "X_train, y_train, X_test, y_test = load_data()\n",
    "print(\"X_train shape : \", X_train.shape, \"\\ny_train shape : \", y_train.shape, \"\\nX_test shape : \", X_test.shape, \"\\ny_test shape : \", y_test.shape)\n",
    "\n",
    "\n",
    "#normalisation entre 0 et 1\n",
    "\n",
    "#fonction qui retourne une matrice normalisé entre 0 et 1\n",
    "#@params X, matrice à normaliser\n",
    "#@params seuil, seuil de normalisation\n",
    "def normalisationMatriciel(X):\n",
    "\n",
    "    X=X/255\n",
    "    return X\n",
    "\n",
    "X_train = normalisationMatriciel(X_train)\n",
    "X_test = normalisationMatriciel(X_test)\n",
    "print(type(X_train))"
   ]
  },
  {
   "cell_type": "code",
   "execution_count": 350,
   "metadata": {},
   "outputs": [],
   "source": [
    "#fonction pour transformer un datasets qui en en 2d en 1 d\n",
    "#@params X, datasets à redimensionner\n",
    "def flatDataSet(X): \n",
    "    X2= np.ndarray(shape=(X.shape[0],X.shape[1]*X.shape[2]), dtype=float)\n",
    "    \n",
    "    for i in range(X.shape[0]):\n",
    "        X2[i] = X[i].flatten()\n",
    "    \n",
    "    return X2\n",
    "#note on aurait pu juste faire X.reshape=X.reshape(X.shape[0],-1) \n",
    "#car -1 va reorganiser avec ce qu'il reste automatiquement sur une seule dimension"
   ]
  },
  {
   "cell_type": "code",
   "execution_count": 351,
   "metadata": {},
   "outputs": [],
   "source": [
    "\n",
    "X_train = flatDataSet(X_train)\n",
    "X_test = flatDataSet(X_test)\n",
    "\n"
   ]
  },
  {
   "cell_type": "code",
   "execution_count": 352,
   "metadata": {},
   "outputs": [
    {
     "name": "stdout",
     "output_type": "stream",
     "text": [
      "(1000, 4096)\n"
     ]
    }
   ],
   "source": [
    "print(X_train.shape)"
   ]
  },
  {
   "cell_type": "markdown",
   "metadata": {},
   "source": [
    "#### Fonction d'initialisation"
   ]
  },
  {
   "cell_type": "code",
   "execution_count": 353,
   "metadata": {},
   "outputs": [],
   "source": [
    "def initialisation(X):\n",
    "    W = np.random.randn(X.shape[1],1)\n",
    "    b = np.random.randn(1)\n",
    "    return (W,b)"
   ]
  },
  {
   "cell_type": "markdown",
   "metadata": {},
   "source": [
    "#### Model"
   ]
  },
  {
   "cell_type": "code",
   "execution_count": 354,
   "metadata": {},
   "outputs": [],
   "source": [
    "def model(X,W,b):\n",
    "    Z = X.dot(W) + b\n",
    "    A = 1/(1+ np.exp(-Z))\n",
    "    return A"
   ]
  },
  {
   "cell_type": "markdown",
   "metadata": {},
   "source": [
    "#### Fonction coût/Log Loss"
   ]
  },
  {
   "cell_type": "code",
   "execution_count": 355,
   "metadata": {},
   "outputs": [],
   "source": [
    "#def log_loss(A,y):\n",
    "    #return (1/len(y))*np.sum(-y*np.log(A) - (1 - y)* np.log(1-A))\n",
    "#on a appelera la fonction de sklearn plutot"
   ]
  },
  {
   "cell_type": "markdown",
   "metadata": {},
   "source": [
    "#### Gradients"
   ]
  },
  {
   "cell_type": "code",
   "execution_count": 356,
   "metadata": {},
   "outputs": [],
   "source": [
    "def gradients(A,X,y):\n",
    "    dW = (1/len(y))*np.dot(X.T, A - y)\n",
    "    db = (1/len(y))* np.sum( A - y)\n",
    "    return (dW, db)"
   ]
  },
  {
   "cell_type": "markdown",
   "metadata": {},
   "source": [
    "#### Update des poids"
   ]
  },
  {
   "cell_type": "code",
   "execution_count": 357,
   "metadata": {},
   "outputs": [],
   "source": [
    "def update(dW, db, W, b, learning_rate):\n",
    "    W = W - learning_rate*dW\n",
    "    b = b - learning_rate*db\n",
    "    return (W,b)"
   ]
  },
  {
   "cell_type": "markdown",
   "metadata": {},
   "source": [
    "#### Fonction de prediction"
   ]
  },
  {
   "cell_type": "code",
   "execution_count": 358,
   "metadata": {},
   "outputs": [],
   "source": [
    "def predict(X,W,b):\n",
    "    A = model(X,W,b)\n",
    "    return A>=0.5"
   ]
  },
  {
   "cell_type": "markdown",
   "metadata": {},
   "source": [
    "#### Algorithme de descente de gradient"
   ]
  },
  {
   "cell_type": "code",
   "execution_count": 359,
   "metadata": {},
   "outputs": [],
   "source": [
    "def artificial_network(X_train,y_train,X_test,y_test,learning_rate=0.1,n_iter = 100):\n",
    "    #initialisation des coefficients\n",
    "    W, b = initialisation(X_train)\n",
    "    Loss_history_train = []\n",
    "    accuracy_history_train = []\n",
    "\n",
    "    Loss_history_test = []\n",
    "    accuracy_history_test = []\n",
    "    for i in tqdm(range(n_iter)):\n",
    "        \n",
    "        A = model(X_train,W,b)\n",
    "        if i % 10 ==0:\n",
    "            #Train\n",
    "            Loss_history_train.append(log_loss(y_train,A))\n",
    "            y_pred = predict(X_train,W,b)\n",
    "            accuracy_history_train.append(accuracy_score(y_train,y_pred))\n",
    "\n",
    "            #Test\n",
    "            A_test = model(X_test,W,b)\n",
    "            Loss_history_test.append(log_loss(y_test,A_test))\n",
    "            y_pred = predict(X_test,W,b)\n",
    "            accuracy_history_test.append(accuracy_score(y_test,y_pred))\n",
    "\n",
    "        dW,db = gradients(A,X_train,y_train)\n",
    "        W, b = update(dW, db, W, b, learning_rate)\n",
    "    \n",
    "    \n",
    "\n",
    "    print(accuracy_history_test==accuracy_history_train)\n",
    "    #graphique\n",
    "    plt.figure(figsize=(12,8))\n",
    "    plt.subplot(2,2,1)\n",
    "    plt.plot(Loss_history_train,label=\"Train Loss\")\n",
    "    plt.plot(Loss_history_test,label=\"Test Loss\")\n",
    "    plt.legend()\n",
    "\n",
    "    plt.subplot(2,2,2)\n",
    "    plt.plot(accuracy_history_train,label=\"Train Accuracy\")\n",
    "    plt.plot(accuracy_history_test,label=\"Test Accuracy\")\n",
    "    plt.legend()\n",
    "    plt.show() # affiche la figure a l'ecran\n",
    "    return W, b"
   ]
  },
  {
   "cell_type": "markdown",
   "metadata": {},
   "source": [
    "#### Test"
   ]
  },
  {
   "cell_type": "code",
   "execution_count": 360,
   "metadata": {},
   "outputs": [
    {
     "name": "stderr",
     "output_type": "stream",
     "text": [
      "100%|██████████| 600/600 [00:04<00:00, 132.86it/s]\n"
     ]
    },
    {
     "name": "stdout",
     "output_type": "stream",
     "text": [
      "False\n"
     ]
    },
    {
     "data": {
      "image/png": "[encoded data removed]",
      "text/plain": [
       "<Figure size 864x576 with 2 Axes>"
      ]
     },
     "metadata": {
      "needs_background": "light"
     },
     "output_type": "display_data"
    }
   ],
   "source": [
    "W,b = artificial_network(X_train,y_train,X_test,y_test,0.01,600)"
   ]
  },
  {
   "cell_type": "markdown",
   "metadata": {},
   "source": [
    "#### Mise en production"
   ]
  },
  {
   "cell_type": "code",
   "execution_count": 361,
   "metadata": {},
   "outputs": [
    {
     "name": "stdout",
     "output_type": "stream",
     "text": [
      "[1.]  : [ True]\n",
      "[0.]  : [ True]\n",
      "[1.]  : [ True]\n",
      "[0.]  : [ True]\n",
      "[1.]  : [ True]\n",
      "[1.]  : [ True]\n",
      "[0.]  : [ True]\n",
      "[1.]  : [ True]\n",
      "[0.]  : [ True]\n",
      "[1.]  : [False]\n",
      "[0.]  : [ True]\n",
      "[0.]  : [False]\n",
      "[1.]  : [False]\n",
      "[0.]  : [False]\n",
      "[1.]  : [False]\n",
      "[1.]  : [False]\n",
      "[0.]  : [False]\n",
      "[0.]  : [False]\n",
      "[1.]  : [ True]\n",
      "[0.]  : [False]\n",
      "[1.]  : [ True]\n",
      "[1.]  : [ True]\n",
      "[0.]  : [False]\n",
      "[0.]  : [False]\n",
      "[0.]  : [ True]\n",
      "[1.]  : [False]\n",
      "[0.]  : [False]\n",
      "[1.]  : [ True]\n",
      "[1.]  : [False]\n",
      "[1.]  : [ True]\n",
      "[0.]  : [False]\n",
      "[1.]  : [False]\n",
      "[1.]  : [False]\n",
      "[0.]  : [ True]\n",
      "[1.]  : [ True]\n",
      "[1.]  : [ True]\n",
      "[0.]  : [False]\n",
      "[0.]  : [False]\n",
      "[0.]  : [ True]\n",
      "[1.]  : [False]\n",
      "[0.]  : [ True]\n",
      "[0.]  : [False]\n",
      "[1.]  : [False]\n",
      "[1.]  : [False]\n",
      "[0.]  : [False]\n",
      "[0.]  : [ True]\n",
      "[1.]  : [False]\n",
      "[1.]  : [False]\n",
      "[1.]  : [False]\n",
      "[1.]  : [False]\n",
      "[1.]  : [False]\n",
      "[1.]  : [ True]\n",
      "[0.]  : [ True]\n",
      "[1.]  : [False]\n",
      "[0.]  : [ True]\n",
      "[0.]  : [False]\n",
      "[0.]  : [ True]\n",
      "[1.]  : [ True]\n",
      "[0.]  : [ True]\n",
      "[1.]  : [False]\n",
      "[0.]  : [ True]\n",
      "[1.]  : [False]\n",
      "[0.]  : [ True]\n",
      "[0.]  : [False]\n",
      "[1.]  : [False]\n",
      "[1.]  : [ True]\n",
      "[0.]  : [False]\n",
      "[1.]  : [ True]\n",
      "[1.]  : [False]\n",
      "[0.]  : [ True]\n",
      "[0.]  : [ True]\n",
      "[1.]  : [False]\n",
      "[1.]  : [False]\n",
      "[1.]  : [False]\n",
      "[1.]  : [False]\n",
      "[0.]  : [ True]\n",
      "[1.]  : [False]\n",
      "[1.]  : [False]\n",
      "[1.]  : [ True]\n",
      "[0.]  : [False]\n",
      "[1.]  : [False]\n",
      "[1.]  : [ True]\n",
      "[1.]  : [False]\n",
      "[0.]  : [ True]\n",
      "[0.]  : [False]\n",
      "[0.]  : [ True]\n",
      "[1.]  : [ True]\n",
      "[1.]  : [False]\n",
      "[1.]  : [ True]\n",
      "[1.]  : [ True]\n",
      "[0.]  : [False]\n",
      "[1.]  : [False]\n",
      "[0.]  : [False]\n",
      "[0.]  : [ True]\n",
      "[0.]  : [False]\n",
      "[0.]  : [False]\n",
      "[0.]  : [ True]\n",
      "[0.]  : [False]\n",
      "[1.]  : [ True]\n",
      "[1.]  : [False]\n"
     ]
    }
   ],
   "source": [
    "\n",
    "for i in range(100):\n",
    "    print(y_test[i], \" :\",predict(X_test[i],W,b))\n",
    "\n"
   ]
  }
 ],
 "metadata": {
  "kernelspec": {
   "display_name": "Python 3.8.8 ('base')",
   "language": "python",
   "name": "python3"
  },
  "language_info": {
   "codemirror_mode": {
    "name": "ipython",
    "version": 3
   },
   "file_extension": ".py",
   "mimetype": "text/x-python",
   "name": "python",
   "nbconvert_exporter": "python",
   "pygments_lexer": "ipython3",
   "version": "3.8.8"
  },
  "orig_nbformat": 4,
  "vscode": {
   "interpreter": {
    "hash": "d587c2baf24a49145f332136eda7fac40b20e1f63475e51ef846c9520dd53487"
   }
  }
 },
 "nbformat": 4,
 "nbformat_minor": 2
}
