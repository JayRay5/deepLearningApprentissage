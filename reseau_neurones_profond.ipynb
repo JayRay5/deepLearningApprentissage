{
 "cells": [
  {
   "cell_type": "markdown",
   "metadata": {},
   "source": [
    "### Programation d'un neurone artificiel"
   ]
  },
  {
   "cell_type": "markdown",
   "metadata": {},
   "source": [
    "#### Import des librarys"
   ]
  },
  {
   "cell_type": "code",
   "execution_count": 27,
   "metadata": {},
   "outputs": [],
   "source": [
    "import numpy as np\n",
    "import matplotlib.pyplot as plt \n",
    "from sklearn.datasets import make_blobs, make_circles\n",
    "from sklearn.metrics import accuracy_score, log_loss\n",
    "from  utilities import load_data"
   ]
  },
  {
   "cell_type": "markdown",
   "metadata": {},
   "source": [
    "#### Initialisation du dataset"
   ]
  },
  {
   "cell_type": "code",
   "execution_count": 28,
   "metadata": {},
   "outputs": [
    {
     "name": "stdout",
     "output_type": "stream",
     "text": [
      "X  (2, 100)\n",
      "y  (1, 100)\n"
     ]
    },
    {
     "data": {
      "image/png": "[encoded data removed]",
      "text/plain": [
       "<Figure size 432x288 with 1 Axes>"
      ]
     },
     "metadata": {
      "needs_background": "light"
     },
     "output_type": "display_data"
    }
   ],
   "source": [
    "X, y = make_circles(n_samples = 100, noise=0.1, factor=0.3,random_state=0)\n",
    "y = y.reshape((y.shape[0],1))\n",
    "\n",
    "#on transpose les 2 matrices car les matrices des paramètres sont de dimensions m neurones, n facteurs\n",
    "#le calule de Z se notera donc W.dot(X) (soit nW= m X.T) \n",
    "X= X.T \n",
    "y=y.T\n",
    "print(\"X \", X.shape)\n",
    "print(\"y \",y.shape)\n",
    "plt.scatter(X[0,:],X[1,:], c = y, cmap=\"summer\")\n",
    "plt.show()"
   ]
  },
  {
   "cell_type": "markdown",
   "metadata": {},
   "source": [
    "#### Fonction d'initialisation"
   ]
  },
  {
   "cell_type": "code",
   "execution_count": 29,
   "metadata": {},
   "outputs": [],
   "source": [
    "#paramètre dimensions: liste qui contient le nombre d'entité par couche, entré et sortie comprise\n",
    "def initialisation(dimensions):\n",
    "    \n",
    "    nombre_couches = len(dimensions)\n",
    "    parametres={}\n",
    "    for i in range(1,nombre_couches):\n",
    "        parametres[\"W\" + str(i)] = np.random.randn(dimensions[i],dimensions[i-1])\n",
    "        parametres[\"b\" + str(i)] = np.random.randn(dimensions[i],1)\n",
    "    \n",
    "    \n",
    "\n",
    "    return parametres"
   ]
  },
  {
   "cell_type": "markdown",
   "metadata": {},
   "source": [
    "#### Model"
   ]
  },
  {
   "cell_type": "code",
   "execution_count": 30,
   "metadata": {},
   "outputs": [],
   "source": [
    "def forward_propagation(X,parametres):\n",
    "    #calcules pour la couche 1\n",
    "    #note attention à l'ordre avec le produit matriciel (.dot()) car cela depend des dimmensions des matrices\n",
    "    #ici nW1 = mX\n",
    "    activations = {}\n",
    "    activations[\"A0\"]=X\n",
    "    #resultat en dimmensions m= nombre de neurone, n = nombre de paramètre\n",
    "    #calcules pour les autres couches\n",
    "\n",
    "    nombre_couches = len(parametres) //2\n",
    "    #on fait une division entiere par 2 car il y a deux matrices par couche (W et b)\n",
    "    for i in range(1,nombre_couches+1):\n",
    "        Z= parametres[\"W\"+str(i)].dot(activations[\"A\"+str(i-1)]) + parametres[\"b\"+str(i)]\n",
    "        activations[\"A\"+str(i)] = 1/(1+ np.exp(-Z))\n",
    "\n",
    "    \n",
    "    return activations"
   ]
  },
  {
   "cell_type": "markdown",
   "metadata": {},
   "source": [
    "#### Fonction coût/Log Loss"
   ]
  },
  {
   "cell_type": "code",
   "execution_count": 31,
   "metadata": {},
   "outputs": [],
   "source": [
    "#on utilise plutot le log_loss de sklearn\n",
    "#def log_loss(A,y):\n",
    " #   return (1/len(y))*np.sum(-y*np.log(A) - (1 - y)* np.log(1-A))"
   ]
  },
  {
   "cell_type": "markdown",
   "metadata": {},
   "source": [
    "#### Gradients"
   ]
  },
  {
   "cell_type": "code",
   "execution_count": 32,
   "metadata": {},
   "outputs": [],
   "source": [
    "#cette fonction permet le calcule des gradients à chaque nouvelle itération\n",
    "def back_propagation(y,parametres,activations):\n",
    "    m = y.shape[1]\n",
    "    nombre_couches = len(parametres) //2\n",
    "    #calcule des gradients pour la couche dernière couche\n",
    "    dZ= activations[\"A\"+str(nombre_couches)]-y\n",
    "    gradients = {}\n",
    "    for i in reversed(range(1,nombre_couches+1)):\n",
    "        #calcule de dL/dWn_couche \n",
    "        gradients[\"dW\"+str(i)] = (1/m)*np.dot(dZ,activations[\"A\"+str(i -1)].T)\n",
    "\n",
    "        #calcule de dL/dbn_couche\n",
    "        #note: keepdims permet de conserver les dimmensions afin de ne pas se retrouver avec une dimmension de type (m,)\n",
    "        gradients[\"db\"+str(i)]=(1/m)*np.sum(dZ,axis=1,keepdims=True)\n",
    "        if i>1:\n",
    "            dZ = np.dot(parametres[\"W\"+str(i)].T,dZ)*activations[\"A\"+str(i-1)]*(1 - activations[\"A\"+str(i-1)])\n",
    "\n",
    "    \n",
    "    return gradients"
   ]
  },
  {
   "cell_type": "markdown",
   "metadata": {},
   "source": [
    "#### Update des poids"
   ]
  },
  {
   "cell_type": "code",
   "execution_count": 33,
   "metadata": {},
   "outputs": [],
   "source": [
    "def update(gradients,parametres, learning_rate):\n",
    "    \n",
    "    nombre_couches = len(parametres)//2\n",
    "    for i in range(1,nombre_couches+1):\n",
    "        parametres[\"W\"+str(i)] = parametres[\"W\"+str(i)] - learning_rate*gradients[\"dW\"+str(i)]\n",
    "        parametres[\"b\"+str(i)] = parametres[\"b\"+str(i)] - learning_rate*gradients[\"db\"+str(i)]\n",
    "    return parametres"
   ]
  },
  {
   "cell_type": "markdown",
   "metadata": {},
   "source": [
    "#### Fonction de prediction"
   ]
  },
  {
   "cell_type": "code",
   "execution_count": 47,
   "metadata": {},
   "outputs": [],
   "source": [
    "def predict(X,parametres):\n",
    "    activations = forward_propagation(X,parametres)\n",
    "    return activations[\"A\"+str(len(activations)-1)]>=0.5"
   ]
  },
  {
   "cell_type": "markdown",
   "metadata": {},
   "source": [
    "#### Algorithme de descente de gradient"
   ]
  },
  {
   "cell_type": "code",
   "execution_count": 43,
   "metadata": {},
   "outputs": [],
   "source": [
    "def neural_network(X_train,y_train,couches_cachees,learning_rate=0.1,n_iter = 100):\n",
    "\n",
    "    #on  definit la taille du reseau\n",
    "    dimensions = list(couches_cachees)\n",
    "    dimensions.insert(0, X_train.shape[0] ) #nombre de facteur mais on prend l'indice 0 car la matrice va être transposée\n",
    "    dimensions.append(y.shape[0])\n",
    "\n",
    "    #initialisation des coefficients\n",
    "    parametres = initialisation(dimensions)\n",
    "\n",
    "\n",
    "    Loss_history = []\n",
    "    accuracy_history_train = []\n",
    "\n",
    "    Loss_history_test = []\n",
    "    accuracy_history_test = []\n",
    "    for i in range(n_iter):\n",
    "        activations = forward_propagation(X_train,parametres)\n",
    "        gradients = back_propagation(y_train,parametres,activations)\n",
    "        parametres = update( gradients, parametres, learning_rate)\n",
    "        if i % 10 ==0:\n",
    "            nombre_couches = len(parametres)//2\n",
    "            #Train\n",
    "            Loss_history.append(log_loss(y_train,activations[\"A\"+str(nombre_couches)],))\n",
    "            y_pred = predict(X_train,parametres)\n",
    "            accuracy_history_train.append(accuracy_score(y_train.flatten(),y_pred.flatten()))\n",
    "\n",
    "            #Test\n",
    "           # activations_test = forward_propagation(X_train,parametres)\n",
    "           # Loss_history_test.append(log_loss(y_test,activations_test[\"A2\"]))\n",
    "           # y_pred = predict(X_test,W,b)\n",
    "           # accuracy_history_test.append(accuracy_score(y_test.flatten(),y_pred.flatten()))\n",
    "    y_pred = predict(X_train,parametres)\n",
    "    print(\"score : \", accuracy_score(y_train.flatten(),y_pred.flatten()))\n",
    "\n",
    "    #graphique\n",
    "    plt.figure(figsize=(12,8))\n",
    "    plt.subplot(2,2,1)\n",
    "    plt.plot(Loss_history,label=\"Train Loss\")\n",
    "    #plt.plot(Loss_history_test,label=\"Test Loss\")\n",
    "    plt.legend()\n",
    "\n",
    "    plt.subplot(2,2,2)\n",
    "    plt.plot(accuracy_history_train,label=\"Train Accuracy\")\n",
    "    #plt.plot(accuracy_history_test,label=\"Test Accuracy\")\n",
    "    plt.legend()\n",
    "    plt.show() # affiche la figure a l'ecran\n",
    "    return parametres"
   ]
  },
  {
   "cell_type": "markdown",
   "metadata": {},
   "source": [
    "#### Test"
   ]
  },
  {
   "cell_type": "code",
   "execution_count": 48,
   "metadata": {},
   "outputs": [
    {
     "name": "stdout",
     "output_type": "stream",
     "text": [
      "score :  1.0\n"
     ]
    },
    {
     "data": {
      "image/png": "[encoded data removed]",
      "text/plain": [
       "<Figure size 864x576 with 2 Axes>"
      ]
     },
     "metadata": {
      "needs_background": "light"
     },
     "output_type": "display_data"
    }
   ],
   "source": [
    "parametres = neural_network(X,y,(32,32,32),0.1,3000)"
   ]
  },
  {
   "cell_type": "markdown",
   "metadata": {},
   "source": [
    "#### Mise en production"
   ]
  },
  {
   "cell_type": "code",
   "execution_count": null,
   "metadata": {},
   "outputs": [
    {
     "ename": "NameError",
     "evalue": "name 'W' is not defined",
     "output_type": "error",
     "traceback": [
      "\u001b[1;31m---------------------------------------------------------------------------\u001b[0m",
      "\u001b[1;31mNameError\u001b[0m                                 Traceback (most recent call last)",
      "\u001b[1;32m<ipython-input-11-66884af940da>\u001b[0m in \u001b[0;36m<module>\u001b[1;34m\u001b[0m\n\u001b[0;32m      2\u001b[0m \u001b[1;31m#on trace la frontiere de décision\u001b[0m\u001b[1;33m\u001b[0m\u001b[1;33m\u001b[0m\u001b[1;33m\u001b[0m\u001b[0m\n\u001b[0;32m      3\u001b[0m \u001b[0mx0\u001b[0m \u001b[1;33m=\u001b[0m \u001b[0mnp\u001b[0m\u001b[1;33m.\u001b[0m\u001b[0mlinspace\u001b[0m\u001b[1;33m(\u001b[0m\u001b[1;33m-\u001b[0m\u001b[1;36m1\u001b[0m\u001b[1;33m,\u001b[0m\u001b[1;36m4\u001b[0m\u001b[1;33m,\u001b[0m\u001b[1;36m100\u001b[0m\u001b[1;33m)\u001b[0m\u001b[1;33m\u001b[0m\u001b[1;33m\u001b[0m\u001b[0m\n\u001b[1;32m----> 4\u001b[1;33m \u001b[0mx1\u001b[0m \u001b[1;33m=\u001b[0m \u001b[1;33m(\u001b[0m\u001b[1;33m-\u001b[0m\u001b[0mW\u001b[0m\u001b[1;33m[\u001b[0m\u001b[1;36m0\u001b[0m\u001b[1;33m]\u001b[0m\u001b[1;33m*\u001b[0m\u001b[0mx0\u001b[0m\u001b[1;33m-\u001b[0m\u001b[0mb\u001b[0m\u001b[1;33m)\u001b[0m\u001b[1;33m/\u001b[0m\u001b[0mW\u001b[0m\u001b[1;33m[\u001b[0m\u001b[1;36m1\u001b[0m\u001b[1;33m]\u001b[0m\u001b[1;33m\u001b[0m\u001b[1;33m\u001b[0m\u001b[0m\n\u001b[0m\u001b[0;32m      5\u001b[0m \u001b[0mplt\u001b[0m\u001b[1;33m.\u001b[0m\u001b[0mplot\u001b[0m\u001b[1;33m(\u001b[0m\u001b[0mx0\u001b[0m\u001b[1;33m,\u001b[0m\u001b[0mx1\u001b[0m\u001b[1;33m,\u001b[0m\u001b[0mc\u001b[0m\u001b[1;33m=\u001b[0m\u001b[1;34m\"orange\"\u001b[0m\u001b[1;33m,\u001b[0m\u001b[0mlw\u001b[0m\u001b[1;33m=\u001b[0m\u001b[1;36m3\u001b[0m\u001b[1;33m)\u001b[0m\u001b[1;33m\u001b[0m\u001b[1;33m\u001b[0m\u001b[0m\n\u001b[0;32m      6\u001b[0m \u001b[1;31m#on regarde où est cette donnée sur le graphique\u001b[0m\u001b[1;33m\u001b[0m\u001b[1;33m\u001b[0m\u001b[1;33m\u001b[0m\u001b[0m\n",
      "\u001b[1;31mNameError\u001b[0m: name 'W' is not defined"
     ]
    }
   ],
   "source": [
    "new_data = np.array([2,1])\n",
    "#on trace la frontiere de décision\n",
    "x0 = np.linspace(-1,4,100)\n",
    "x1 = (-W[0]*x0-b)/W[1]\n",
    "plt.plot(x0,x1,c=\"orange\",lw=3)\n",
    "#on regarde où est cette donnée sur le graphique\n",
    "plt.scatter(X[:,0],X[:,1],c = y, cmap=\"summer\")\n",
    "plt.scatter(new_data[0],new_data[1],c = \"red\")\n",
    "predict(new_data,W,b)"
   ]
  }
 ],
 "metadata": {
  "kernelspec": {
   "display_name": "Python 3.8.8 ('base')",
   "language": "python",
   "name": "python3"
  },
  "language_info": {
   "codemirror_mode": {
    "name": "ipython",
    "version": 3
   },
   "file_extension": ".py",
   "mimetype": "text/x-python",
   "name": "python",
   "nbconvert_exporter": "python",
   "pygments_lexer": "ipython3",
   "version": "3.8.8"
  },
  "orig_nbformat": 4,
  "vscode": {
   "interpreter": {
    "hash": "d587c2baf24a49145f332136eda7fac40b20e1f63475e51ef846c9520dd53487"
   }
  }
 },
 "nbformat": 4,
 "nbformat_minor": 2
}
